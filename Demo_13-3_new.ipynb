{
 "cells": [
  {
   "cell_type": "markdown",
   "metadata": {},
   "source": [
    "# 文字情感分析服務操作"
   ]
  },
  {
   "cell_type": "code",
   "execution_count": 2,
   "metadata": {
    "scrolled": true
   },
   "outputs": [
    {
     "name": "stdout",
     "output_type": "stream",
     "text": [
      "Document text: I had the best day of my life.\n",
      "Overall sentiment: positive\n",
      "Document text: This was a waste of my time. The speaker put me to sleep.\n",
      "Overall sentiment: negative\n",
      "Document text: No tengo dinero ni nada que dar...\n",
      "Overall sentiment: negative\n"
     ]
    }
   ],
   "source": [
    "from azure.core.credentials import AzureKeyCredential\n",
    "from azure.ai.textanalytics import TextAnalyticsClient\n",
    "\n",
    "key = \"b08ca36eeb2c4ae9908f49a96bb7fa9f\"\n",
    "endpoint = \"https://azuretext12345.cognitiveservices.azure.com/\"\n",
    "\n",
    "text_analytics_client = TextAnalyticsClient(endpoint=endpoint, credential=AzureKeyCredential(key))\n",
    "documents = [\n",
    "    \"I had the best day of my life.\",\n",
    "    \"This was a waste of my time. The speaker put me to sleep.\",\n",
    "    \"No tengo dinero ni nada que dar...\"\n",
    "]\n",
    "\n",
    "result = text_analytics_client.analyze_sentiment(documents)\n",
    "docs = [doc for doc in result if not doc.is_error]\n",
    "\n",
    "for idx, doc in enumerate(docs):\n",
    "    print(\"Document text: {}\".format(documents[idx]))\n",
    "    print(\"Overall sentiment: {}\".format(doc.sentiment))\n",
    "    "
   ]
  },
  {
   "cell_type": "markdown",
   "metadata": {},
   "source": [
    "# 文字語言偵測服務操作"
   ]
  },
  {
   "cell_type": "code",
   "execution_count": 3,
   "metadata": {},
   "outputs": [
    {
     "name": "stdout",
     "output_type": "stream",
     "text": [
      "Document text: This document is written in English.\n",
      "Language detected: English\n",
      "ISO6391 name: en\n",
      "Confidence score: 0.99\n",
      "\n",
      "Document text: Este es un document escrito en Español.\n",
      "Language detected: Spanish\n",
      "ISO6391 name: es\n",
      "Confidence score: 1.0\n",
      "\n",
      "Document text: 这是一个用中文写的文件\n",
      "Language detected: Chinese_Simplified\n",
      "ISO6391 name: zh_chs\n",
      "Confidence score: 1.0\n",
      "\n",
      "Document text: Dies ist ein Dokument in deutsche Sprache.\n",
      "Language detected: German\n",
      "ISO6391 name: de\n",
      "Confidence score: 1.0\n",
      "\n",
      "Document text: Detta är ett dokument skrivet på engelska.\n",
      "Language detected: Swedish\n",
      "ISO6391 name: sv\n",
      "Confidence score: 1.0\n",
      "\n"
     ]
    }
   ],
   "source": [
    "from azure.core.credentials import AzureKeyCredential\n",
    "from azure.ai.textanalytics import TextAnalyticsClient\n",
    "\n",
    "\n",
    "key = \"b08ca36eeb2c4ae9908f49a96bb7fa9f\"\n",
    "endpoint = \"https://azuretext12345.cognitiveservices.azure.com/\"\n",
    "\n",
    "\n",
    "text_analytics_client = TextAnalyticsClient(endpoint=endpoint, credential=AzureKeyCredential(key))\n",
    "documents = [\n",
    "    \"This document is written in English.\",\n",
    "    \"Este es un document escrito en Español.\",\n",
    "    \"这是一个用中文写的文件\",\n",
    "    \"Dies ist ein Dokument in deutsche Sprache.\",\n",
    "    \"Detta är ett dokument skrivet på engelska.\"\n",
    "]\n",
    "\n",
    "result = text_analytics_client.detect_language(documents)\n",
    "\n",
    "for idx, doc in enumerate(result):\n",
    "    if not doc.is_error:\n",
    "        print(\"Document text: {}\".format(documents[idx]))\n",
    "        print(\"Language detected: {}\".format(doc.primary_language.name))\n",
    "        print(\"ISO6391 name: {}\".format(doc.primary_language.iso6391_name))\n",
    "        print(\"Confidence score: {}\\n\".format(doc.primary_language.confidence_score))\n",
    "    if doc.is_error:\n",
    "        print(doc.id, doc.error)"
   ]
  },
  {
   "cell_type": "code",
   "execution_count": null,
   "metadata": {},
   "outputs": [],
   "source": []
  }
 ],
 "metadata": {
  "kernelspec": {
   "display_name": "Python 3",
   "language": "python",
   "name": "python3"
  },
  "language_info": {
   "codemirror_mode": {
    "name": "ipython",
    "version": 3
   },
   "file_extension": ".py",
   "mimetype": "text/x-python",
   "name": "python",
   "nbconvert_exporter": "python",
   "pygments_lexer": "ipython3",
   "version": "3.7.7"
  }
 },
 "nbformat": 4,
 "nbformat_minor": 4
}
