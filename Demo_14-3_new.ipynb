{
 "cells": [
  {
   "cell_type": "markdown",
   "metadata": {},
   "source": [
    "# 執行關鍵字詞擷取服務操作"
   ]
  },
  {
   "cell_type": "code",
   "execution_count": 10,
   "metadata": {},
   "outputs": [
    {
     "name": "stdout",
     "output_type": "stream",
     "text": [
      "['King County', 'United States', 'Washington', 'city', 'miles', 'Redmond', 'Seattle']\n",
      "['cat', 'veterinarian']\n",
      "['South America', 'summer']\n"
     ]
    }
   ],
   "source": [
    "from azure.core.credentials import AzureKeyCredential\n",
    "from azure.ai.textanalytics import TextAnalyticsClient\n",
    "\n",
    "key = \"b08ca36eeb2c4ae9908f49a96bb7fa9f\"\n",
    "endpoint = \"https://azuretext12345.cognitiveservices.azure.com/\"\n",
    "\n",
    "text_analytics_client = TextAnalyticsClient(endpoint=endpoint, credential=AzureKeyCredential(key))\n",
    "documents = [\n",
    "    \"Redmond is a city in King County, Washington, United States, located 15 miles east of Seattle.\",\n",
    "    \"I need to take my cat to the veterinarian.\",\n",
    "    \"I will travel to South America in the summer.\",\n",
    "]\n",
    "\n",
    "result = text_analytics_client.extract_key_phrases(documents)\n",
    "for doc in result:\n",
    "    if not doc.is_error:\n",
    "        print(doc.key_phrases)\n",
    "    if doc.is_error:\n",
    "        print(doc.id, doc.error)"
   ]
  },
  {
   "cell_type": "markdown",
   "metadata": {},
   "source": [
    "# 執行實體辨識服務操作"
   ]
  },
  {
   "cell_type": "markdown",
   "metadata": {},
   "source": [
    "## 實體辨識"
   ]
  },
  {
   "cell_type": "code",
   "execution_count": 2,
   "metadata": {},
   "outputs": [
    {
     "name": "stdout",
     "output_type": "stream",
     "text": [
      "\n",
      "Document text: Microsoft was founded by Bill Gates and Paul Allen.\n",
      "Entity: \t Microsoft \tCategory: \t Organization \tConfidence Score: \t 0.83\n",
      "Entity: \t Bill Gates \tCategory: \t Person \tConfidence Score: \t 0.85\n",
      "Entity: \t Paul Allen \tCategory: \t Person \tConfidence Score: \t 0.9\n",
      "\n",
      "Document text: I had a wonderful trip to Seattle last week.\n",
      "Entity: \t trip \tCategory: \t Event \tConfidence Score: \t 0.61\n",
      "Entity: \t Seattle \tCategory: \t Location \tConfidence Score: \t 0.82\n",
      "Entity: \t last week \tCategory: \t DateTime \tConfidence Score: \t 0.8\n",
      "\n",
      "Document text: I visited the Space Needle 2 times.\n",
      "Entity: \t 2 \tCategory: \t Quantity \tConfidence Score: \t 0.8\n"
     ]
    }
   ],
   "source": [
    "from azure.core.credentials import AzureKeyCredential\n",
    "from azure.ai.textanalytics import TextAnalyticsClient\n",
    "\n",
    "key = \"b08ca36eeb2c4ae9908f49a96bb7fa9f\"\n",
    "endpoint = \"https://azuretext12345.cognitiveservices.azure.com/\"\n",
    "\n",
    "\n",
    "text_analytics_client = TextAnalyticsClient(endpoint=endpoint, credential=AzureKeyCredential(key))\n",
    "documents = [\n",
    "    \"Microsoft was founded by Bill Gates and Paul Allen.\",\n",
    "    \"I had a wonderful trip to Seattle last week.\",\n",
    "    \"I visited the Space Needle 2 times.\",\n",
    "]\n",
    "\n",
    "result = text_analytics_client.recognize_entities(documents)\n",
    "docs = [doc for doc in result if not doc.is_error]\n",
    "\n",
    "for idx, doc in enumerate(docs):\n",
    "    print(\"\\nDocument text: {}\".format(documents[idx]))\n",
    "    for entity in doc.entities:\n",
    "        print(\"Entity: \\t\", entity.text, \"\\tCategory: \\t\", entity.category,\n",
    "              \"\\tConfidence Score: \\t\", entity.confidence_score)"
   ]
  },
  {
   "cell_type": "markdown",
   "metadata": {},
   "source": [
    "## 實體連結"
   ]
  },
  {
   "cell_type": "code",
   "execution_count": 3,
   "metadata": {},
   "outputs": [
    {
     "name": "stdout",
     "output_type": "stream",
     "text": [
      "Document text: Microsoft moved its headquarters to Bellevue, Washington in January 1979.\n",
      "\n",
      "Entity: Microsoft\n",
      "Url: https://en.wikipedia.org/wiki/Microsoft\n",
      "Data Source: Wikipedia\n",
      "Confidence Score: 0.39\n",
      "Entity as appears in request: Microsoft\n",
      "Entity: Bellevue, Washington\n",
      "Url: https://en.wikipedia.org/wiki/Bellevue,_Washington\n",
      "Data Source: Wikipedia\n",
      "Confidence Score: 0.87\n",
      "Entity as appears in request: Bellevue, Washington\n",
      "Entity: Briann January\n",
      "Url: https://en.wikipedia.org/wiki/Briann_January\n",
      "Data Source: Wikipedia\n",
      "Confidence Score: 0.14\n",
      "Entity as appears in request: January\n",
      "------------------------------------------\n",
      "Document text: Steve Ballmer stepped down as CEO of Microsoft and was succeeded by Satya Nadella.\n",
      "\n",
      "Entity: Steve Ballmer\n",
      "Url: https://en.wikipedia.org/wiki/Steve_Ballmer\n",
      "Data Source: Wikipedia\n",
      "Confidence Score: 0.92\n",
      "Entity as appears in request: Steve Ballmer\n",
      "Entity: Chief executive officer\n",
      "Url: https://en.wikipedia.org/wiki/Chief_executive_officer\n",
      "Data Source: Wikipedia\n",
      "Confidence Score: 0.25\n",
      "Entity as appears in request: CEO\n",
      "Entity: Microsoft\n",
      "Url: https://en.wikipedia.org/wiki/Microsoft\n",
      "Data Source: Wikipedia\n",
      "Confidence Score: 0.36\n",
      "Entity as appears in request: Microsoft\n",
      "Entity: Satya Nadella\n",
      "Url: https://en.wikipedia.org/wiki/Satya_Nadella\n",
      "Data Source: Wikipedia\n",
      "Confidence Score: 0.9\n",
      "Entity as appears in request: Satya Nadella\n",
      "------------------------------------------\n",
      "Document text: Microsoft superó a Apple Inc. como la compañía más valiosa que cotiza en bolsa en el mundo.\n",
      "\n",
      "Entity: Microsoft\n",
      "Url: https://en.wikipedia.org/wiki/Microsoft\n",
      "Data Source: Wikipedia\n",
      "Confidence Score: 0.27\n",
      "Entity as appears in request: Microsoft\n",
      "Entity: Apple Inc.\n",
      "Url: https://en.wikipedia.org/wiki/Apple_Inc.\n",
      "Data Source: Wikipedia\n",
      "Confidence Score: 0.89\n",
      "Entity as appears in request: Apple Inc.\n",
      "------------------------------------------\n"
     ]
    }
   ],
   "source": [
    "from azure.core.credentials import AzureKeyCredential\n",
    "from azure.ai.textanalytics import TextAnalyticsClient\n",
    "\n",
    "key = \"b08ca36eeb2c4ae9908f49a96bb7fa9f\"\n",
    "endpoint = \"https://azuretext12345.cognitiveservices.azure.com/\"\n",
    "\n",
    "text_analytics_client = TextAnalyticsClient(endpoint=endpoint, credential=AzureKeyCredential(key))\n",
    "documents = [\n",
    "    \"Microsoft moved its headquarters to Bellevue, Washington in January 1979.\",\n",
    "    \"Steve Ballmer stepped down as CEO of Microsoft and was succeeded by Satya Nadella.\",\n",
    "    \"Microsoft superó a Apple Inc. como la compañía más valiosa que cotiza en bolsa en el mundo.\",\n",
    "]\n",
    "\n",
    "result = text_analytics_client.recognize_linked_entities(documents)\n",
    "docs = [doc for doc in result if not doc.is_error]\n",
    "\n",
    "for idx, doc in enumerate(docs):\n",
    "    print(\"Document text: {}\\n\".format(documents[idx]))\n",
    "    for entity in doc.entities:\n",
    "        print(\"Entity: {}\".format(entity.name))\n",
    "        print(\"Url: {}\".format(entity.url))\n",
    "        print(\"Data Source: {}\".format(entity.data_source))\n",
    "        for match in entity.matches:\n",
    "            print(\"Confidence Score: {}\".format(match.confidence_score))\n",
    "            print(\"Entity as appears in request: {}\".format(match.text))\n",
    "    print(\"------------------------------------------\")"
   ]
  },
  {
   "cell_type": "markdown",
   "metadata": {},
   "source": [
    "# 執行文本翻譯服務操作"
   ]
  },
  {
   "cell_type": "code",
   "execution_count": 7,
   "metadata": {},
   "outputs": [
    {
     "name": "stdout",
     "output_type": "stream",
     "text": [
      "[\n",
      "    {\n",
      "        \"detectedLanguage\": {\n",
      "            \"language\": \"en\",\n",
      "            \"score\": 1.0\n",
      "        },\n",
      "        \"translations\": [\n",
      "            {\n",
      "                \"text\": \"Hallo Welt!\",\n",
      "                \"to\": \"de\"\n",
      "            },\n",
      "            {\n",
      "                \"text\": \"Salve, mondo!\",\n",
      "                \"to\": \"it\"\n",
      "            }\n",
      "        ]\n",
      "    }\n",
      "]\n"
     ]
    }
   ],
   "source": [
    "# -*- coding: utf-8 -*-\n",
    "import os, requests, uuid, json\n",
    "\n",
    "subscription_key = 'affd67e06206419d8ce76772577869fc' # your key\n",
    "endpoint = 'https://api.cognitive.microsofttranslator.com/'\n",
    "\n",
    "# key_var_name = 'TRANSLATOR_TEXT_SUBSCRIPTION_KEY'\n",
    "# if not key_var_name in os.environ:\n",
    "#     raise Exception('Please set/export the environment variable: {}'.format(key_var_name))\n",
    "# subscription_key = os.environ[key_var_name]\n",
    "\n",
    "# endpoint_var_name = 'TRANSLATOR_TEXT_ENDPOINT'\n",
    "# if not endpoint_var_name in os.environ:\n",
    "#     raise Exception('Please set/export the environment variable: {}'.format(endpoint_var_name))\n",
    "# endpoint = os.environ[endpoint_var_name]\n",
    "\n",
    "path = '/translate?api-version=3.0'\n",
    "\n",
    "# Output language setting\n",
    "params = '&to=de&to=it'\n",
    "constructed_url = endpoint + path + params\n",
    "\n",
    "headers = {\n",
    "    'Ocp-Apim-Subscription-Key': subscription_key,\n",
    "    'Content-type': 'application/json',\n",
    "    'X-ClientTraceId': str(uuid.uuid4())\n",
    "}\n",
    "\n",
    "body = [{\n",
    "    'text': 'Hello World!'\n",
    "}]\n",
    "\n",
    "request = requests.post(constructed_url, headers=headers, json=body)\n",
    "response = request.json()\n",
    "\n",
    "print(json.dumps(response, sort_keys=True, indent=4,\n",
    "                 ensure_ascii=False, separators=(',', ': ')))\n",
    "\n"
   ]
  },
  {
   "cell_type": "code",
   "execution_count": null,
   "metadata": {},
   "outputs": [],
   "source": []
  }
 ],
 "metadata": {
  "kernelspec": {
   "display_name": "Python 3",
   "language": "python",
   "name": "python3"
  },
  "language_info": {
   "codemirror_mode": {
    "name": "ipython",
    "version": 3
   },
   "file_extension": ".py",
   "mimetype": "text/x-python",
   "name": "python",
   "nbconvert_exporter": "python",
   "pygments_lexer": "ipython3",
   "version": "3.7.7"
  }
 },
 "nbformat": 4,
 "nbformat_minor": 4
}
