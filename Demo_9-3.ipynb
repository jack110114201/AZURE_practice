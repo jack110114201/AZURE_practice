{
 "cells": [
  {
   "cell_type": "markdown",
   "metadata": {},
   "source": [
    "# 印刷文字辨識服務操作"
   ]
  },
  {
   "cell_type": "markdown",
   "metadata": {},
   "source": [
    "### url"
   ]
  },
  {
   "cell_type": "code",
   "execution_count": 1,
   "metadata": {},
   "outputs": [
    {
     "name": "stdout",
     "output_type": "stream",
     "text": [
      "===== Batch Read File - remote =====\n",
      "Nutrition Facts Amount Per Serving\n",
      "[145.0, 0.0, 1239.0, 212.0, 1225.0, 280.0, 131.0, 58.0]\n",
      "Serving size: 1 bar (40g)\n",
      "[110.0, 59.0, 598.0, 157.0, 587.0, 207.0, 100.0, 109.0]\n",
      "Serving Per Package: 4\n",
      "[83.0, 108.0, 549.0, 206.0, 538.0, 256.0, 73.0, 158.0]\n",
      "Total Fat 13g\n",
      "[683.0, 214.0, 1001.0, 287.0, 990.0, 333.0, 673.0, 260.0]\n",
      "Saturated Fat 1.5g\n",
      "[695.0, 296.0, 1121.0, 395.0, 1108.0, 448.0, 683.0, 348.0]\n",
      "Amount Per Serving\n",
      "[29.0, 208.0, 491.0, 310.0, 478.0, 368.0, 17.0, 266.0]\n",
      "Trans Fat 0g\n",
      "[668.0, 364.0, 954.0, 435.0, 941.0, 488.0, 655.0, 417.0]\n",
      "alories 190\n",
      "[9.0, 293.0, 265.0, 350.0, 255.0, 397.0, 0.0, 340.0]\n",
      "Cholesterol Omg\n",
      "[593.0, 425.0, 1007.0, 527.0, 994.0, 581.0, 580.0, 480.0]\n",
      "ories from Fat 110\n",
      "[9.0, 377.0, 399.0, 465.0, 389.0, 509.0, 0.0, 422.0]\n",
      "Sodium 20mg\n",
      "[562.0, 497.0, 914.0, 588.0, 899.0, 644.0, 548.0, 553.0]\n",
      "nt Daily Values are based on\n",
      "[8.0, 477.0, 521.0, 599.0, 511.0, 641.0, 0.0, 518.0]\n",
      "Vitamin A 50%\n",
      "[525.0, 598.0, 776.0, 657.0, 766.0, 700.0, 515.0, 640.0]\n",
      "calorie diet.\n",
      "[13.0, 535.0, 196.0, 576.0, 187.0, 616.0, 4.0, 574.0]\n",
      "\n"
     ]
    }
   ],
   "source": [
    "from azure.cognitiveservices.vision.computervision import ComputerVisionClient\n",
    "from azure.cognitiveservices.vision.computervision.models import TextOperationStatusCodes\n",
    "from msrest.authentication import CognitiveServicesCredentials\n",
    "import time\n",
    "\n",
    "# Set API key.\n",
    "subscription_key = 'subscription_key'\n",
    "# Set endpoint.\n",
    "endpoint = 'endpoint'\n",
    "# Call API\n",
    "computervision_client = ComputerVisionClient(endpoint, CognitiveServicesCredentials(subscription_key))\n",
    "\n",
    "'''\n",
    "Batch Read File, recognize printed text - remote\n",
    "This example will extract printed text in an image, then print results, line by line.\n",
    "This API call can also recognize handwriting (not shown).\n",
    "'''\n",
    "print(\"===== Batch Read File - remote =====\")\n",
    "# Get an image with printed text\n",
    "remote_image_printed_text_url = \"https://raw.githubusercontent.com/Azure-Samples/cognitive-services-sample-data-files/master/ComputerVision/Images/printed_text.jpg\"\n",
    "\n",
    "# Call API with URL and raw response (allows you to get the operation location)\n",
    "recognize_printed_results = computervision_client.batch_read_file(remote_image_printed_text_url,  raw=True)\n",
    "\n",
    "# Get the operation location (URL with an ID at the end) from the response\n",
    "operation_location_remote = recognize_printed_results.headers[\"Operation-Location\"]\n",
    "# Grab the ID from the URL\n",
    "operation_id = operation_location_remote.split(\"/\")[-1]\n",
    "\n",
    "# Call the \"GET\" API and wait for it to retrieve the results \n",
    "while True:\n",
    "    get_printed_text_results = computervision_client.get_read_operation_result(operation_id)\n",
    "    if get_printed_text_results.status not in ['NotStarted', 'Running']:\n",
    "        break\n",
    "    time.sleep(1)\n",
    "\n",
    "# Print the detected text, line by line\n",
    "if get_printed_text_results.status == TextOperationStatusCodes.succeeded:\n",
    "    for text_result in get_printed_text_results.recognition_results:\n",
    "        for line in text_result.lines:\n",
    "            print(line.text)\n",
    "            print(line.bounding_box)\n",
    "print()"
   ]
  },
  {
   "cell_type": "markdown",
   "metadata": {},
   "source": [
    "### 本地端"
   ]
  },
  {
   "cell_type": "code",
   "execution_count": 5,
   "metadata": {},
   "outputs": [
    {
     "name": "stdout",
     "output_type": "stream",
     "text": [
      "===== Batch Read File - remote =====\n",
      "REPAIR\n",
      "[63.0, 121.0, 64.0, 77.0, 74.0, 77.0, 73.0, 121.0]\n",
      "Coca Cola\n",
      "[75.0, 194.0, 83.0, 23.0, 145.0, 29.0, 140.0, 199.0]\n",
      "\n"
     ]
    }
   ],
   "source": [
    "from azure.cognitiveservices.vision.computervision import ComputerVisionClient\n",
    "from azure.cognitiveservices.vision.computervision.models import TextOperationStatusCodes\n",
    "from msrest.authentication import CognitiveServicesCredentials\n",
    "import time\n",
    "import os\n",
    "\n",
    "# Set API key.\n",
    "subscription_key = 'subscription_key'\n",
    "# Set endpoint.\n",
    "endpoint = 'endpoint'\n",
    "# Call API\n",
    "computervision_client = ComputerVisionClient(endpoint, CognitiveServicesCredentials(subscription_key))\n",
    "\n",
    "'''\n",
    "Batch Read File, recognize printed text - remote\n",
    "This example will extract printed text in an image, then print results, line by line.\n",
    "This API call can also recognize handwriting (not shown).\n",
    "'''\n",
    "print(\"===== Batch Read File - remote =====\")\n",
    "# Get an image with printed text\n",
    "\n",
    "#本地端\n",
    "# 指定圖檔\n",
    "local_image_path = os.getcwd() + '/cola.jpg'\n",
    "\n",
    "# 讀取圖片\n",
    "# 照片要讀成binary\n",
    "local_image = open(local_image_path, \"rb\")\n",
    "\n",
    "\n",
    "\n",
    "# Call API with URL and raw response (allows you to get the operation location)\n",
    "recognize_printed_results = computervision_client.batch_read_file_in_stream(local_image,  raw=True)\n",
    "\n",
    "# Get the operation location (URL with an ID at the end) from the response\n",
    "operation_location_remote = recognize_printed_results.headers[\"Operation-Location\"]\n",
    "# Grab the ID from the URL\n",
    "operation_id = operation_location_remote.split(\"/\")[-1]\n",
    "\n",
    "# Call the \"GET\" API and wait for it to retrieve the results \n",
    "while True:\n",
    "    get_printed_text_results = computervision_client.get_read_operation_result(operation_id)\n",
    "    if get_printed_text_results.status not in ['NotStarted', 'Running']:\n",
    "        break\n",
    "    time.sleep(1)\n",
    "\n",
    "# Print the detected text, line by line\n",
    "if get_printed_text_results.status == TextOperationStatusCodes.succeeded:\n",
    "    for text_result in get_printed_text_results.recognition_results:\n",
    "        for line in text_result.lines:\n",
    "            print(line.text)\n",
    "            print(line.bounding_box)\n",
    "print()"
   ]
  },
  {
   "cell_type": "markdown",
   "metadata": {},
   "source": [
    "# 手寫文字辨識服務操作"
   ]
  },
  {
   "cell_type": "markdown",
   "metadata": {},
   "source": [
    "### url"
   ]
  },
  {
   "cell_type": "code",
   "execution_count": 6,
   "metadata": {},
   "outputs": [
    {
     "name": "stdout",
     "output_type": "stream",
     "text": [
      "===== Batch Read File - remote =====\n",
      "Table Of\n",
      "[2.858, 1.6823, 5.6495, 1.627, 5.6606, 2.1803, 2.8691, 2.2467]\n",
      "Contents\n",
      "[2.9466, 2.2025, 5.9486, 2.1582, 5.9597, 2.7559, 2.9466, 2.8001]\n",
      "A list of the parts of a book and the\n",
      "[2.2931, 2.9661, 6.1923, 2.944, 6.1923, 3.2207, 2.2931, 3.2428]\n",
      "pages where they are located\n",
      "[2.6586, 3.2982, 5.8489, 3.2539, 5.8489, 3.5195, 2.6586, 3.5638]\n",
      "Table of Contents\n",
      "[3.4783, 3.8516, 5.2951, 3.8405, 5.2951, 4.1061, 3.4783, 4.1172]\n",
      "Frog Life Cycle......page 2\n",
      "[3.1793, 4.2389, 5.4834, 4.2279, 5.4834, 4.4492, 3.1793, 4.4603]\n",
      "kinds of Frogs........page 5\n",
      "[3.1682, 4.5488, 5.4391, 4.5599, 5.4391, 4.7813, 3.1682, 4.7813]\n",
      "Where Frogs Live...page 8\n",
      "[3.1793, 4.8919, 5.4501, 4.8809, 5.4501, 5.1022, 3.1793, 5.1133]\n",
      "How\n",
      "[2.2266, 1.8483, 3.2014, 1.6823, 3.279, 2.1139, 2.3152, 2.291]\n",
      "Hand\n",
      "[1.9275, 2.457, 3.4562, 2.1029, 3.5559, 2.8333, 2.0937, 3.1543]\n",
      "Letter\n",
      "[2.0604, 3.0879, 3.5116, 2.8997, 3.5891, 3.7077, 2.1823, 3.918]\n",
      "Bill Gates\n",
      "[1.5398, 5.0579, 4.9517, 4.9362, 4.9849, 5.888, 1.573, 6.0098]\n",
      "\n"
     ]
    }
   ],
   "source": [
    "from azure.cognitiveservices.vision.computervision import ComputerVisionClient\n",
    "from azure.cognitiveservices.vision.computervision.models import TextOperationStatusCodes\n",
    "from msrest.authentication import CognitiveServicesCredentials\n",
    "import time\n",
    "\n",
    "# Set API key.\n",
    "subscription_key = 'subscription_key'\n",
    "# Set endpoint.\n",
    "endpoint = 'endpoint'\n",
    "# Call API\n",
    "computervision_client = ComputerVisionClient(endpoint, CognitiveServicesCredentials(subscription_key))\n",
    "\n",
    "'''\n",
    "Batch Read File, recognize printed text - remote\n",
    "This example will extract printed text in an image, then print results, line by line.\n",
    "This API call can also recognize handwriting (not shown).\n",
    "'''\n",
    "print(\"===== Batch Read File - remote =====\")\n",
    "# Get an image with printed handwritten\n",
    "remote_image_printed_text_url = \"https://raw.githubusercontent.com/Azure-Samples/cognitive-services-sample-data-files/master/ComputerVision/Images/printed_handwritten.pdf\"\n",
    "\n",
    "# Call API with URL and raw response (allows you to get the operation location)\n",
    "recognize_printed_results = computervision_client.batch_read_file(remote_image_printed_text_url,  raw=True)\n",
    "\n",
    "# Get the operation location (URL with an ID at the end) from the response\n",
    "operation_location_remote = recognize_printed_results.headers[\"Operation-Location\"]\n",
    "# Grab the ID from the URL\n",
    "operation_id = operation_location_remote.split(\"/\")[-1]\n",
    "\n",
    "# Call the \"GET\" API and wait for it to retrieve the results \n",
    "while True:\n",
    "    get_printed_text_results = computervision_client.get_read_operation_result(operation_id)\n",
    "    if get_printed_text_results.status not in ['NotStarted', 'Running']:\n",
    "        break\n",
    "    time.sleep(1)\n",
    "\n",
    "# Print the detected text, line by line\n",
    "if get_printed_text_results.status == TextOperationStatusCodes.succeeded:\n",
    "    for text_result in get_printed_text_results.recognition_results:\n",
    "        for line in text_result.lines:\n",
    "            print(line.text)\n",
    "            print(line.bounding_box)\n",
    "print()"
   ]
  },
  {
   "cell_type": "markdown",
   "metadata": {},
   "source": [
    "### 本地端"
   ]
  },
  {
   "cell_type": "code",
   "execution_count": 8,
   "metadata": {},
   "outputs": [
    {
     "name": "stdout",
     "output_type": "stream",
     "text": [
      "===== Batch Read File - remote =====\n",
      "REPAIR\n",
      "[63.0, 121.0, 64.0, 77.0, 74.0, 77.0, 73.0, 121.0]\n",
      "Coca Cola\n",
      "[75.0, 194.0, 83.0, 23.0, 145.0, 29.0, 140.0, 199.0]\n",
      "\n"
     ]
    }
   ],
   "source": [
    "from azure.cognitiveservices.vision.computervision import ComputerVisionClient\n",
    "from azure.cognitiveservices.vision.computervision.models import TextOperationStatusCodes\n",
    "from msrest.authentication import CognitiveServicesCredentials\n",
    "import time\n",
    "import os\n",
    "\n",
    "# Set API key.\n",
    "subscription_key = 'subscription_key'\n",
    "# Set endpoint.\n",
    "endpoint = 'endpoint'\n",
    "# Call API\n",
    "computervision_client = ComputerVisionClient(endpoint, CognitiveServicesCredentials(subscription_key))\n",
    "\n",
    "'''\n",
    "Batch Read File, recognize printed text - remote\n",
    "This example will extract printed text in an image, then print results, line by line.\n",
    "This API call can also recognize handwriting (not shown).\n",
    "'''\n",
    "print(\"===== Batch Read File - remote =====\")\n",
    "# Get an image with printed handwritten\n",
    "\n",
    "\n",
    "#本地端\n",
    "# 指定圖檔\n",
    "local_image_path = os.getcwd() + '/cola.jpg'\n",
    "\n",
    "# 讀取圖片\n",
    "# 照片要讀成binary\n",
    "local_image = open(local_image_path, \"rb\")\n",
    "\n",
    "\n",
    "# Call API with URL and raw response (allows you to get the operation location)\n",
    "recognize_printed_results = computervision_client.batch_read_file_in_stream(local_image,  raw=True)\n",
    "\n",
    "# Get the operation location (URL with an ID at the end) from the response\n",
    "operation_location_remote = recognize_printed_results.headers[\"Operation-Location\"]\n",
    "# Grab the ID from the URL\n",
    "operation_id = operation_location_remote.split(\"/\")[-1]\n",
    "\n",
    "# Call the \"GET\" API and wait for it to retrieve the results \n",
    "while True:\n",
    "    get_printed_text_results = computervision_client.get_read_operation_result(operation_id)\n",
    "    if get_printed_text_results.status not in ['NotStarted', 'Running']:\n",
    "        break\n",
    "    time.sleep(1)\n",
    "\n",
    "# Print the detected text, line by line\n",
    "if get_printed_text_results.status == TextOperationStatusCodes.succeeded:\n",
    "    for text_result in get_printed_text_results.recognition_results:\n",
    "        for line in text_result.lines:\n",
    "            print(line.text)\n",
    "            print(line.bounding_box)\n",
    "print()"
   ]
  },
  {
   "cell_type": "markdown",
   "metadata": {},
   "source": [
    "# 成人內容偵測服務操作"
   ]
  },
  {
   "cell_type": "code",
   "execution_count": 2,
   "metadata": {},
   "outputs": [
    {
     "name": "stdout",
     "output_type": "stream",
     "text": [
      "===== Detect Adult or Racy Content - remote =====\n",
      "Analyzing remote image for adult or racy content ... \n",
      "Is adult content: False with confidence 0.34\n",
      "Has racy content: False with confidence 0.49\n"
     ]
    }
   ],
   "source": [
    "from azure.cognitiveservices.vision.computervision import ComputerVisionClient\n",
    "from msrest.authentication import CognitiveServicesCredentials\n",
    "\n",
    "# Set API key.\n",
    "subscription_key = '051f30719529446386141692eeb7c737'\n",
    "# Set endpoint.\n",
    "endpoint = 'https://jack.cognitiveservices.azure.com/'\n",
    "# Call API\n",
    "computervision_client = ComputerVisionClient(endpoint, CognitiveServicesCredentials(subscription_key))\n",
    "\n",
    "remote_image_url = \"https://raw.githubusercontent.com/Azure-Samples/cognitive-services-sample-data-files/master/ComputerVision/Images/landmark.jpg\"\n",
    "\n",
    "'''\n",
    "Detect Adult or Racy Content - remote\n",
    "This example detects adult or racy content in a remote image, then prints the adult/racy score.\n",
    "The score is ranged 0.0 - 1.0 with smaller numbers indicating negative results.\n",
    "'''\n",
    "print(\"===== Detect Adult or Racy Content - remote =====\")\n",
    "# Select the visual feature(s) you want\n",
    "remote_image_features = [\"adult\"]\n",
    "# Call API with URL and features\n",
    "detect_adult_results_remote = computervision_client.analyze_image(remote_image_url, remote_image_features)\n",
    "\n",
    "# Print results with adult/racy score\n",
    "print(\"Analyzing remote image for adult or racy content ... \")\n",
    "print(\"Is adult content: {} with confidence {:.2f}\".format(detect_adult_results_remote.adult.is_adult_content, detect_adult_results_remote.adult.adult_score * 100))\n",
    "print(\"Has racy content: {} with confidence {:.2f}\".format(detect_adult_results_remote.adult.is_racy_content, detect_adult_results_remote.adult.racy_score * 100))"
   ]
  }
 ],
 "metadata": {
  "kernelspec": {
   "display_name": "Python 3",
   "language": "python",
   "name": "python3"
  },
  "language_info": {
   "codemirror_mode": {
    "name": "ipython",
    "version": 3
   },
   "file_extension": ".py",
   "mimetype": "text/x-python",
   "name": "python",
   "nbconvert_exporter": "python",
   "pygments_lexer": "ipython3",
   "version": "3.8.10"
  }
 },
 "nbformat": 4,
 "nbformat_minor": 4
}
