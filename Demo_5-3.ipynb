{
 "cells": [
  {
   "cell_type": "markdown",
   "metadata": {},
   "source": [
    "# Azure Congnative Service - Computer vision - content tagging"
   ]
  },
  {
   "cell_type": "markdown",
   "metadata": {},
   "source": [
    "# 使用網路URL執行內容標記服務操作"
   ]
  },
  {
   "cell_type": "code",
   "execution_count": 3,
   "metadata": {},
   "outputs": [
    {
     "name": "stdout",
     "output_type": "stream",
     "text": [
      "===== Tag an image - remote =====\n",
      "Tags in the remote image: \n",
      "'outdoor' with confidence 99.00%\n",
      "'building' with confidence 98.81%\n",
      "'sky' with confidence 98.21%\n",
      "'stadium' with confidence 98.17%\n",
      "'ancient rome' with confidence 96.16%\n",
      "'ruins' with confidence 95.04%\n",
      "'amphitheatre' with confidence 93.99%\n",
      "'ancient roman architecture' with confidence 92.65%\n",
      "'historic site' with confidence 89.55%\n",
      "'ancient history' with confidence 89.54%\n",
      "'history' with confidence 86.72%\n",
      "'archaeological site' with confidence 84.41%\n",
      "'travel' with confidence 65.85%\n",
      "'large' with confidence 61.02%\n",
      "'city' with confidence 56.57%\n"
     ]
    }
   ],
   "source": [
    "from azure.cognitiveservices.vision.computervision import ComputerVisionClient\n",
    "from msrest.authentication import CognitiveServicesCredentials\n",
    "\n",
    "# Set API key.\n",
    "subscription_key = 'your API key'\n",
    "\n",
    "# Set endpoint.\n",
    "# 端點\n",
    "endpoint = 'your endpoint'\n",
    "\n",
    "# Call API\n",
    "#身分認證\n",
    "computervision_client = ComputerVisionClient(endpoint, CognitiveServicesCredentials(subscription_key))\n",
    "\n",
    "#照片連結    \n",
    "remote_image_url = \"https://raw.githubusercontent.com/Azure-Samples/cognitive-services-sample-data-files/master/ComputerVision/Images/landmark.jpg\"\n",
    "\n",
    "'''\n",
    "Tag an Image - remote\n",
    "This example returns a tag (key word) for each thing in the image.\n",
    "'''\n",
    "print(\"===== Tag an image - remote =====\")\n",
    "# Call API with remote image\n",
    "# url 的用法 computervision_client.tag_image\n",
    "tags_result_remote = computervision_client.tag_image(remote_image_url )\n",
    "\n",
    "# Print results with confidence score\n",
    "print(\"Tags in the remote image: \")\n",
    "if (len(tags_result_remote.tags) == 0):\n",
    "    print(\"No tags detected.\")\n",
    "else:\n",
    "    for tag in tags_result_remote.tags:\n",
    "        print(\"'{}' with confidence {:.2f}%\".format(tag.name, tag.confidence * 100))"
   ]
  },
  {
   "cell_type": "markdown",
   "metadata": {},
   "source": [
    "# 上傳本機圖檔執行內容標記服務操作"
   ]
  },
  {
   "cell_type": "code",
   "execution_count": 8,
   "metadata": {},
   "outputs": [
    {
     "name": "stdout",
     "output_type": "stream",
     "text": [
      "===== Tag an image - remote =====\n",
      "Tags in the local image: \n",
      "'text' with confidence 99.47%\n",
      "'bottle' with confidence 96.08%\n",
      "'drug' with confidence 92.58%\n",
      "'prescription drug' with confidence 92.02%\n",
      "'medicine' with confidence 91.24%\n",
      "'solution' with confidence 91.17%\n",
      "'solvent' with confidence 90.55%\n",
      "'pharmacy' with confidence 89.37%\n",
      "'pharmaceutical drug' with confidence 88.62%\n",
      "'indoor' with confidence 85.23%\n",
      "'laboratory equipment' with confidence 84.91%\n",
      "'plastic bottle' with confidence 84.54%\n",
      "'healthcare' with confidence 84.48%\n"
     ]
    }
   ],
   "source": [
    "from azure.cognitiveservices.vision.computervision import ComputerVisionClient\n",
    "from msrest.authentication import CognitiveServicesCredentials\n",
    "import os\n",
    "\n",
    "# Set API key.\n",
    "subscription_key = 'your API key'\n",
    "\n",
    "# Set endpoint.\n",
    "# 端點\n",
    "endpoint = 'your endpoint'\n",
    "\n",
    "# Call API\n",
    "computervision_client = ComputerVisionClient(endpoint, CognitiveServicesCredentials(subscription_key))\n",
    " \n",
    "# 指定圖檔\n",
    "# os.getcwd() 代表當前目錄的路徑\n",
    "local_image_path = os.getcwd() + '/_115509216_whatsubject.jpg'\n",
    "\n",
    "# 讀取圖片\n",
    "# 照片要讀成binary\n",
    "local_image = open(local_image_path, \"rb\")\n",
    "\n",
    "'''\n",
    "Tag an Image - local\n",
    "This example returns a tag (key word) for each thing in the image.\n",
    "'''\n",
    "print(\"===== Tag an image - remote =====\")\n",
    "# Call API with local image\n",
    "# 本地端的用法 computervision_client.tag_image_in_stream\n",
    "tags_result_local = computervision_client.tag_image_in_stream(local_image)\n",
    "\n",
    "\n",
    "# Print results with confidence score\n",
    "print(\"Tags in the local image: \")\n",
    "if (len(tags_result_local.tags) == 0):\n",
    "    print(\"No tags detected.\")\n",
    "else:\n",
    "    for tag in tags_result_local.tags:\n",
    "        print(\"'{}' with confidence {:.2f}%\".format(tag.name, tag.confidence * 100))"
   ]
  },
  {
   "cell_type": "code",
   "execution_count": null,
   "metadata": {},
   "outputs": [],
   "source": []
  }
 ],
 "metadata": {
  "kernelspec": {
   "display_name": "Python 3",
   "language": "python",
   "name": "python3"
  },
  "language_info": {
   "codemirror_mode": {
    "name": "ipython",
    "version": 3
   },
   "file_extension": ".py",
   "mimetype": "text/x-python",
   "name": "python",
   "nbconvert_exporter": "python",
   "pygments_lexer": "ipython3",
   "version": "3.8.10"
  }
 },
 "nbformat": 4,
 "nbformat_minor": 4
}
